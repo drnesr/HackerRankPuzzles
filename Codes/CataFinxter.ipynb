{
 "cells": [
  {
   "cell_type": "code",
   "execution_count": null,
   "metadata": {
    "ExecuteTime": {
     "end_time": "2019-12-22T08:17:34.634125Z",
     "start_time": "2019-12-22T08:17:23.349403Z"
    }
   },
   "outputs": [],
   "source": [
    "\"\"\"Log in 3 tries only!  \"\"\"\n",
    "\n",
    "correct_password = 'Senat'\n",
    "name = input(\"Enter your name: \")\n",
    "surname = input(\"Enter your surname: \")\n",
    "password = input('Enter the pass: ')\n",
    "\n",
    "for tries in range(1,4):  # set-up 3 rounds of trying\n",
    "    if correct_password != password:\n",
    "        if tries <=2 :\n",
    "                     password = input(\"That password is incorect. Try again: \")\n",
    "        else:\n",
    "            message1 = ('%s %s, you entered an incorrect password three times in a row, you are blocked!' % (name, surname))\n",
    "            print (message1)\n",
    "    elif correct_password == password:\n",
    "         message = ('Hi, %s %s you are logged in.' % (name, surname))\n",
    "         print (message)\n",
    "         break"
   ]
  },
  {
   "cell_type": "code",
   "execution_count": null,
   "metadata": {
    "ExecuteTime": {
     "end_time": "2019-12-22T08:18:19.897540Z",
     "start_time": "2019-12-22T08:17:53.857913Z"
    }
   },
   "outputs": [],
   "source": [
    "\"\"\"Log in 3 tries only!  \"\"\"\n",
    "\n",
    "correct_password = 'Senat'\n",
    "name = input(\"Enter your name: \")\n",
    "surname = input(\"Enter your surname: \")\n",
    "password = input('Enter the pass: ')\n",
    "\n",
    "for tries in range(1,4):  # set-up 3 rounds of trying\n",
    "    if correct_password != password:\n",
    "        if tries <=2 :\n",
    "                     password = input(\"That password is incorect. Try again: \")\n",
    "        else:\n",
    "            message1 = ('%s %s, you entered an incorrect password three times in a row, you are blocked!' % (name, surname))\n",
    "            print (message1)\n",
    "    elif correct_password == password:\n",
    "         message = ('Hi, %s %s you are logged in.' % (name, surname))\n",
    "         print (message)\n",
    "         break"
   ]
  },
  {
   "cell_type": "code",
   "execution_count": 2,
   "metadata": {
    "ExecuteTime": {
     "end_time": "2019-12-22T08:29:57.395574Z",
     "start_time": "2019-12-22T08:29:57.389591Z"
    }
   },
   "outputs": [],
   "source": [
    "def password_trials():\n",
    "    \"\"\"Log in 3 tries only!  \"\"\"\n",
    "    correct_password = 'Senat'\n",
    "    name, surname = input(\"Enter your name and surname: \").split()\n",
    "    tries = 3\n",
    "    while tries > 0:\n",
    "        tries -= 1\n",
    "        if correct_password != input('Enter the pass: '):\n",
    "            print(f\"That password is incorect. {tries} trials remaining.\")\n",
    "            continue\n",
    "        else:\n",
    "            print(f'Hi {name} {surname}, you are logged in.')\n",
    "            break\n",
    "    else:\n",
    "        print('Password trials exceed limit, you are blocked!')"
   ]
  },
  {
   "cell_type": "code",
   "execution_count": 3,
   "metadata": {
    "ExecuteTime": {
     "end_time": "2019-12-22T08:30:16.120426Z",
     "start_time": "2019-12-22T08:30:08.374815Z"
    }
   },
   "outputs": [
    {
     "name": "stdout",
     "output_type": "stream",
     "text": [
      "Enter your name: M\n",
      "Enter your surname: N\n",
      "Enter the pass: e\n",
      "That password is incorect. 2 trials remaining.\n",
      "Enter the pass: r\n",
      "That password is incorect. 1 trials remaining.\n",
      "Enter the pass: t\n",
      "That password is incorect. 0 trials remaining.\n",
      "Password trials exceed limit, you are blocked!\n"
     ]
    }
   ],
   "source": [
    "password_trials()"
   ]
  },
  {
   "cell_type": "code",
   "execution_count": 4,
   "metadata": {
    "ExecuteTime": {
     "end_time": "2019-12-22T08:30:34.823987Z",
     "start_time": "2019-12-22T08:30:24.286528Z"
    }
   },
   "outputs": [
    {
     "name": "stdout",
     "output_type": "stream",
     "text": [
      "Enter your name: M\n",
      "Enter your surname: N\n",
      "Enter the pass: d\n",
      "That password is incorect. 2 trials remaining.\n",
      "Enter the pass: Senat\n",
      "Hi M N, you are logged in.\n"
     ]
    }
   ],
   "source": [
    "password_trials()"
   ]
  },
  {
   "cell_type": "code",
   "execution_count": 5,
   "metadata": {
    "ExecuteTime": {
     "end_time": "2019-12-22T08:32:22.998731Z",
     "start_time": "2019-12-22T08:32:16.511259Z"
    }
   },
   "outputs": [
    {
     "name": "stdout",
     "output_type": "stream",
     "text": [
      "Enter your name and surname: Mohammad Elnesr\n"
     ]
    }
   ],
   "source": [
    "name, surname = input(\"Enter your name and surname: \").split()"
   ]
  },
  {
   "cell_type": "code",
   "execution_count": 7,
   "metadata": {
    "ExecuteTime": {
     "end_time": "2019-12-22T08:32:39.406343Z",
     "start_time": "2019-12-22T08:32:39.399389Z"
    }
   },
   "outputs": [
    {
     "data": {
      "text/plain": [
       "('Mohammad', 'Elnesr')"
      ]
     },
     "execution_count": 7,
     "metadata": {},
     "output_type": "execute_result"
    }
   ],
   "source": [
    "name, surname"
   ]
  },
  {
   "cell_type": "code",
   "execution_count": 13,
   "metadata": {
    "ExecuteTime": {
     "end_time": "2019-12-22T08:39:24.211421Z",
     "start_time": "2019-12-22T08:39:24.206434Z"
    }
   },
   "outputs": [],
   "source": [
    "def allowed(correct_password='Senat'):\n",
    "    \"\"\"\n",
    "    A function that takes name and password,\n",
    "    Allows Log in 3 tries only!  \n",
    "    \n",
    "    Returns True if the password is correct, \n",
    "    Returns False on three wrong attempts.\n",
    "    \n",
    "    \"\"\"\n",
    "    name, surname = input(\"Enter your name and surname: \").split()[:2]\n",
    "    tries = 3\n",
    "    while tries > 0:\n",
    "        tries -= 1\n",
    "        if correct_password != input('Enter the pass: '):\n",
    "            print(f\"That password is incorect. {tries} trials remaining.\")\n",
    "            continue\n",
    "        else:\n",
    "            print(f'Hi {name} {surname}, you are logged in.')\n",
    "            return True\n",
    "    else:\n",
    "        print('Password trials exceed limit, you are blocked!')\n",
    "        return False"
   ]
  },
  {
   "cell_type": "code",
   "execution_count": 9,
   "metadata": {
    "ExecuteTime": {
     "end_time": "2019-12-22T08:37:23.961689Z",
     "start_time": "2019-12-22T08:36:33.242266Z"
    }
   },
   "outputs": [
    {
     "name": "stdout",
     "output_type": "stream",
     "text": [
      "Enter your name and surname: Mohammad Elnesr\n",
      "Enter the pass: f\n",
      "That password is incorect. 2 trials remaining.\n",
      "Enter the pass: Senate\n",
      "That password is incorect. 1 trials remaining.\n",
      "Enter the pass: Senat\n",
      "Hi Mohammad Elnesr, you are logged in.\n"
     ]
    },
    {
     "data": {
      "text/plain": [
       "True"
      ]
     },
     "execution_count": 9,
     "metadata": {},
     "output_type": "execute_result"
    }
   ],
   "source": [
    "allowed()"
   ]
  },
  {
   "cell_type": "code",
   "execution_count": 14,
   "metadata": {
    "ExecuteTime": {
     "end_time": "2019-12-22T08:39:45.241844Z",
     "start_time": "2019-12-22T08:39:29.318192Z"
    }
   },
   "outputs": [
    {
     "name": "stdout",
     "output_type": "stream",
     "text": [
      "Enter your name and surname: Mohammad Nabil Elnesr\n",
      "Enter the pass: uuu\n",
      "That password is incorect. 2 trials remaining.\n",
      "Enter the pass: uUu\n",
      "Hi Mohammad Nabil, you are logged in.\n"
     ]
    },
    {
     "data": {
      "text/plain": [
       "True"
      ]
     },
     "execution_count": 14,
     "metadata": {},
     "output_type": "execute_result"
    }
   ],
   "source": [
    "allowed('uUu')"
   ]
  },
  {
   "cell_type": "code",
   "execution_count": 15,
   "metadata": {
    "ExecuteTime": {
     "end_time": "2019-12-22T08:40:11.008826Z",
     "start_time": "2019-12-22T08:40:00.573583Z"
    }
   },
   "outputs": [
    {
     "name": "stdout",
     "output_type": "stream",
     "text": [
      "Enter your name and surname: M K L\n",
      "Enter the pass: l\n",
      "That password is incorect. 2 trials remaining.\n",
      "Enter the pass: o\n",
      "That password is incorect. 1 trials remaining.\n",
      "Enter the pass: jj\n",
      "That password is incorect. 0 trials remaining.\n",
      "Password trials exceed limit, you are blocked!\n"
     ]
    },
    {
     "data": {
      "text/plain": [
       "False"
      ]
     },
     "execution_count": 15,
     "metadata": {},
     "output_type": "execute_result"
    }
   ],
   "source": [
    "allowed('uUu')"
   ]
  },
  {
   "cell_type": "code",
   "execution_count": null,
   "metadata": {
    "ExecuteTime": {
     "end_time": "2019-12-22T08:55:57.793692Z",
     "start_time": "2019-12-22T08:55:57.787708Z"
    }
   },
   "outputs": [],
   "source": []
  },
  {
   "cell_type": "code",
   "execution_count": 24,
   "metadata": {
    "ExecuteTime": {
     "end_time": "2019-12-22T08:57:15.112343Z",
     "start_time": "2019-12-22T08:57:15.108325Z"
    }
   },
   "outputs": [],
   "source": [
    "def allowed(correct_password='Senat', tries = 3):\n",
    "    \"\"\"\n",
    "    A function that inputs a name and a password,    \n",
    "    Inputs: correct_password: The desired password (Default='Senat')\n",
    "            tries: The maximum allowed attempts (Default=3)     \n",
    "    Outputs: messages and warnings for exceeding password trials\n",
    "    \n",
    "    Returns True if the password is correct, \n",
    "    Returns False on three wrong attempts.\n",
    "    \n",
    "    \"\"\"\n",
    "    name, surname = input(\"Enter your name and surname: \").split()[:2]\n",
    "    \n",
    "    while tries > 0:\n",
    "        tries -= 1\n",
    "        if correct_password != input('Enter the pass: '):\n",
    "            print(f\"That password is incorect. {tries} trials remaining.\")\n",
    "            continue\n",
    "        else:\n",
    "            print(f'Hi {name} {surname}, you are logged in.')\n",
    "            return True\n",
    "    else:\n",
    "        print('Password trials exceed limit, you are blocked!')\n",
    "        return False"
   ]
  },
  {
   "cell_type": "code",
   "execution_count": 25,
   "metadata": {
    "ExecuteTime": {
     "end_time": "2019-12-22T11:50:11.212441Z",
     "start_time": "2019-12-22T11:50:11.203464Z"
    }
   },
   "outputs": [
    {
     "name": "stdout",
     "output_type": "stream",
     "text": [
      "The Zen of Python, by Tim Peters\n",
      "\n",
      "Beautiful is better than ugly.\n",
      "Explicit is better than implicit.\n",
      "Simple is better than complex.\n",
      "Complex is better than complicated.\n",
      "Flat is better than nested.\n",
      "Sparse is better than dense.\n",
      "Readability counts.\n",
      "Special cases aren't special enough to break the rules.\n",
      "Although practicality beats purity.\n",
      "Errors should never pass silently.\n",
      "Unless explicitly silenced.\n",
      "In the face of ambiguity, refuse the temptation to guess.\n",
      "There should be one-- and preferably only one --obvious way to do it.\n",
      "Although that way may not be obvious at first unless you're Dutch.\n",
      "Now is better than never.\n",
      "Although never is often better than *right* now.\n",
      "If the implementation is hard to explain, it's a bad idea.\n",
      "If the implementation is easy to explain, it may be a good idea.\n",
      "Namespaces are one honking great idea -- let's do more of those!\n"
     ]
    }
   ],
   "source": [
    "import this"
   ]
  },
  {
   "cell_type": "code",
   "execution_count": null,
   "metadata": {},
   "outputs": [],
   "source": []
  }
 ],
 "metadata": {
  "kernelspec": {
   "display_name": "Python 3",
   "language": "python",
   "name": "python3"
  },
  "language_info": {
   "codemirror_mode": {
    "name": "ipython",
    "version": 3
   },
   "file_extension": ".py",
   "mimetype": "text/x-python",
   "name": "python",
   "nbconvert_exporter": "python",
   "pygments_lexer": "ipython3",
   "version": "3.7.4"
  },
  "varInspector": {
   "cols": {
    "lenName": 16,
    "lenType": 16,
    "lenVar": 40
   },
   "kernels_config": {
    "python": {
     "delete_cmd_postfix": "",
     "delete_cmd_prefix": "del ",
     "library": "var_list.py",
     "varRefreshCmd": "print(var_dic_list())"
    },
    "r": {
     "delete_cmd_postfix": ") ",
     "delete_cmd_prefix": "rm(",
     "library": "var_list.r",
     "varRefreshCmd": "cat(var_dic_list()) "
    }
   },
   "types_to_exclude": [
    "module",
    "function",
    "builtin_function_or_method",
    "instance",
    "_Feature"
   ],
   "window_display": false
  }
 },
 "nbformat": 4,
 "nbformat_minor": 2
}
