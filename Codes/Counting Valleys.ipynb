{
 "cells": [
  {
   "cell_type": "markdown",
   "metadata": {},
   "source": [
    "# Counting Valleys\n",
    "https://www.hackerrank.com/challenges/counting-valleys/problem"
   ]
  },
  {
   "cell_type": "code",
   "execution_count": null,
   "metadata": {},
   "outputs": [],
   "source": []
  },
  {
   "cell_type": "code",
   "execution_count": null,
   "metadata": {},
   "outputs": [],
   "source": []
  },
  {
   "cell_type": "code",
   "execution_count": 33,
   "metadata": {
    "ExecuteTime": {
     "end_time": "2020-01-05T06:18:54.083154Z",
     "start_time": "2020-01-05T06:18:54.080136Z"
    }
   },
   "outputs": [],
   "source": [
    "paths=['DU', 'UDDDUUU', 'UDDDUUUDU', 'DDUUUUDD', 'UDDDUDUU', 'DDDDDDD', 'UUUU',\n",
    "      'DUDUDUDUDUDU', 'DUDUDUDDUUDDDUUU', 'DDUUDDUDUUUD']"
   ]
  },
  {
   "cell_type": "code",
   "execution_count": 34,
   "metadata": {
    "ExecuteTime": {
     "end_time": "2020-01-05T06:18:54.878994Z",
     "start_time": "2020-01-05T06:18:54.872038Z"
    }
   },
   "outputs": [
    {
     "name": "stdout",
     "output_type": "stream",
     "text": [
      "{-2}: "
     ]
    },
    {
     "data": {
      "text/plain": [
       "1"
      ]
     },
     "execution_count": 34,
     "metadata": {},
     "output_type": "execute_result"
    }
   ],
   "source": [
    "def countingValleys(n, s):\n",
    "    #print(s)\n",
    "    location=0\n",
    "    trans={'D':-1, 'U':1}\n",
    "    valleys=set()\n",
    "    \n",
    "    for i, d in enumerate(s[:-1]):\n",
    "        location+=trans[d]\n",
    "        is_valley = d+s[i+1]=='DU'\n",
    "        if is_valley:\n",
    "            valleys.add(location)\n",
    "            \n",
    "        #print(i,d, s[i+1], d+s[i+1], location, is_valley, valleys)\n",
    "        \n",
    "        pass\n",
    "    #if s[-2:]=='DD':\n",
    "        #valleys.add(location)\n",
    "    print(valleys, end=': ')\n",
    "    return len(valleys)\n",
    "\n",
    "\n",
    "countingValleys(4, paths[3])"
   ]
  },
  {
   "cell_type": "code",
   "execution_count": 35,
   "metadata": {
    "ExecuteTime": {
     "end_time": "2020-01-05T06:18:56.044895Z",
     "start_time": "2020-01-05T06:18:56.039910Z"
    }
   },
   "outputs": [
    {
     "name": "stdout",
     "output_type": "stream",
     "text": [
      "{-1}: DU 1\n",
      "{-2}: UDDDUUU 1\n",
      "{0, -2}: UDDDUUUDU 2\n",
      "{-2}: DDUUUUDD 1\n",
      "{-2}: UDDDUDUU 1\n",
      "set(): DDDDDDD 0\n",
      "set(): UUUU 0\n",
      "{-1}: DUDUDUDUDUDU 1\n",
      "{-3, -1, -2}: DUDUDUDDUUDDDUUU 3\n",
      "{-2}: DDUUDDUDUUUD 1\n"
     ]
    }
   ],
   "source": [
    "for path in paths:\n",
    "    print(path, countingValleys(4, path))"
   ]
  },
  {
   "cell_type": "markdown",
   "metadata": {},
   "source": [
    "### Trial 2 because \"DDUUDDUDUUUD\" should return 2, but it returns 1!"
   ]
  },
  {
   "cell_type": "code",
   "execution_count": 44,
   "metadata": {
    "ExecuteTime": {
     "end_time": "2020-01-05T06:37:49.476052Z",
     "start_time": "2020-01-05T06:37:49.466079Z"
    }
   },
   "outputs": [
    {
     "name": "stdout",
     "output_type": "stream",
     "text": [
      "DDUUDDUUUD# [-2, -2]: "
     ]
    },
    {
     "data": {
      "text/plain": [
       "2"
      ]
     },
     "execution_count": 44,
     "metadata": {},
     "output_type": "execute_result"
    }
   ],
   "source": [
    "def countingValleys(n, s):\n",
    "    #print(s)\n",
    "    location=0\n",
    "    trans={'D':-1, 'U':1}\n",
    "    valleys=[]\n",
    "    new_s = s\n",
    "    len_new=len(new_s)\n",
    "    new_s = new_s.replace('DUDU', 'DU')\n",
    "    while len(new_s)<len_new:\n",
    "        len_new=len(new_s)\n",
    "        new_s = new_s.replace('DUDU', 'DU')\n",
    "    print(new_s, end='# ')\n",
    "        \n",
    "    for i, d in enumerate(new_s[:-1]):\n",
    "        location+=trans[d]\n",
    "        is_valley = d+new_s[i+1]=='DU'\n",
    "        if is_valley:\n",
    "            valleys.append(location)\n",
    "            \n",
    "        #print(i,d, s[i+1], d+s[i+1], location, is_valley, valleys)\n",
    "        \n",
    "        pass\n",
    "    #if s[-2:]=='DD':\n",
    "        #valleys.add(location)\n",
    "    print(valleys, end=': ')\n",
    "    return len(valleys)\n",
    "\n",
    "\n",
    "countingValleys(4, paths[-1])"
   ]
  },
  {
   "cell_type": "code",
   "execution_count": 46,
   "metadata": {
    "ExecuteTime": {
     "end_time": "2020-01-05T06:39:02.458971Z",
     "start_time": "2020-01-05T06:39:02.452987Z"
    }
   },
   "outputs": [
    {
     "name": "stdout",
     "output_type": "stream",
     "text": [
      "DU-> DU# [-1]: 1\n",
      "UDDDUUU-> UDDDUUU# [-2]: 1\n",
      "UDDDUUUDU-> UDDDUUUDU# [-2, 0]: 2\n",
      "DDUUUUDD-> DDUUUUDD# [-2]: 1\n",
      "UDDDUDUU-> UDDDUU# [-2]: 1\n",
      "DDDDDDD-> DDDDDDD# []: 0\n",
      "UUUU-> UUUU# []: 0\n",
      "DUDUDUDUDUDU-> DU# [-1]: 1\n",
      "DUDUDUDDUUDDDUUU-> DUDDUUDDDUUU# [-1, -2, -3]: 3\n",
      "DDUUDDUDUUUD-> DDUUDDUUUD# [-2, -2]: 2\n"
     ]
    }
   ],
   "source": [
    "for path in paths:\n",
    "    print(path, end='-> ')\n",
    "    print(countingValleys(4, path))"
   ]
  },
  {
   "cell_type": "code",
   "execution_count": 43,
   "metadata": {
    "ExecuteTime": {
     "end_time": "2020-01-05T06:36:54.198203Z",
     "start_time": "2020-01-05T06:36:54.193187Z"
    }
   },
   "outputs": [
    {
     "data": {
      "text/plain": [
       "'DU'"
      ]
     },
     "execution_count": 43,
     "metadata": {},
     "output_type": "execute_result"
    }
   ],
   "source": [
    "'DUDUDU'.replace('DUDU', 'DU').replace('DUDU', 'DU')"
   ]
  },
  {
   "cell_type": "markdown",
   "metadata": {},
   "source": [
    "## Trial 3 because \"UDUUUDUDDD\" should return 0, but it returns 2!"
   ]
  },
  {
   "cell_type": "code",
   "execution_count": 47,
   "metadata": {
    "ExecuteTime": {
     "end_time": "2020-01-05T06:44:55.623026Z",
     "start_time": "2020-01-05T06:44:55.619037Z"
    }
   },
   "outputs": [],
   "source": [
    "test02 = 'UDUUUDUDDD' # Expected 0\n",
    "# test12 expected 10\n",
    "test12 = 'DUDDUUUUDDUUUUDUUDUUDUUUUDDDUDDUUUUDUDDDUUDUDUUDDUUUDUDDDUDUDUDUDUUUDUUUUUUDUDDDDDUDUDDDDUUUUUDUDUUUUUUUUDDDUUDUUDUDUDDDDDUDDDUDUUUDUDDDUDUUDUUDDDDDDDUDUDUUUDUDDUDUUDUDDDUUUDUDDDDUDDUDDUDUDUUDUDDDUDUUUDUUDUUUUUUUDUUUUUUUDDDDDUDDDUUUDDDUDDDUDDUUDDUUUDUUDDDUDUUDUUUDDUDDDDUUUUUUDUDUUDDDDUDUDDUUUDUDUUDDUUDDDUUDUUUUUDDUUDDDDUUUDUDUUDDUUDDUUDUDDDUDUDUDDUUDUDDUDUDDUUUDUDDUDDUUDUUDUDDDDDDDDDUDDUUDDUUUUDDUDUUDUUDUUDDDDUUUDUDDDDUDDUUDUDUDUUDDUUDUDUDDDDDUUUDDDDUDDDUUDDUUDDUUUDUDDDUDDDDDUUDUUUDDUDDDDUUUDDDDUUDDUUUDUUUDDUDUUUDUDDUUUDDDDDDDUUDDUDDUUUUUUDDDDUDDUDDUDDUDDDDDUUDDUDDDUDDUDUDDDUDUDUUDDUUDDDDUUDDUUUDUUDDDDDDUDUDDUDUUDDUDDDUUUUDDUUDUDDDDUUUDUUUUDDUDUUUDDUDUUUUUUDUUDDDDDUDDUDUDDDUDDDDUDUUUDUDUUDDUDDDUDUUDDDDDDDDUDUUDUDDUDDUDUUUDDDUDUDDUUUDUDUDDDUDDUDUUUDUDDDDDUDDDDDDUDUUUUDDUDDDUDDDUDUDUUUDDUDDUDDUUDDUDUDUDUUUUUDUUDDUUDUUDUUUDUDUDDUDDDUUDDDDUUDDUUUUDUUDUUUDDDDDUDDDDDUUUDDUUUDUUUDUUDUUUDUDUUDUDDUUUUUDUUUUUUUUUUUUUUUUUUUUUUUUUUUUUUUU'\n",
    "\n"
   ]
  },
  {
   "cell_type": "code",
   "execution_count": 52,
   "metadata": {
    "ExecuteTime": {
     "end_time": "2020-01-05T06:47:40.313907Z",
     "start_time": "2020-01-05T06:47:40.305928Z"
    }
   },
   "outputs": [
    {
     "name": "stdout",
     "output_type": "stream",
     "text": [
      "DDUUDDUUUD# 1\n"
     ]
    },
    {
     "data": {
      "text/plain": [
       "2"
      ]
     },
     "execution_count": 52,
     "metadata": {},
     "output_type": "execute_result"
    }
   ],
   "source": [
    "def countingValleys(n, s):\n",
    "    #print(s)\n",
    "    location=0\n",
    "    trans={'D':-1, 'U':1}\n",
    "    valleys=[]\n",
    "    new_s = s\n",
    "    len_new=len(new_s)\n",
    "    new_s = new_s.replace('DUDU', 'DU')\n",
    "    while len(new_s)<len_new:\n",
    "        len_new=len(new_s)\n",
    "        new_s = new_s.replace('DUDU', 'DU')\n",
    "    print(new_s, end='# ')\n",
    "        \n",
    "    for i, d in enumerate(new_s[:-1]):\n",
    "        location+=trans[d]\n",
    "        is_valley = d+new_s[i+1]=='DU'\n",
    "        if is_valley and location<0:\n",
    "            valleys.append(location)\n",
    "            \n",
    "        #print(i,d, s[i+1], d+s[i+1], location, is_valley, valleys)\n",
    "        \n",
    "        pass\n",
    "    #if s[-2:]=='DD':\n",
    "        #valleys.add(location)\n",
    "#     print(valleys, end=': ')\n",
    "    print(len(set(valleys)))\n",
    "    return len(valleys)\n",
    "\n",
    "\n",
    "countingValleys(4, paths[-1])"
   ]
  },
  {
   "cell_type": "code",
   "execution_count": 53,
   "metadata": {
    "ExecuteTime": {
     "end_time": "2020-01-05T06:47:42.564015Z",
     "start_time": "2020-01-05T06:47:42.558032Z"
    }
   },
   "outputs": [
    {
     "name": "stdout",
     "output_type": "stream",
     "text": [
      "UDUUUDUDDD# 0\n",
      "DUDDUUUUDDUUUUDUUDUUDUUUUDDDUDDUUUUDUDDDUUDUUDDUUUDUDDDUUUDUUUUUUDUDDDDDUDDDDUUUUUDUUUUUUUUDDDUUDUUDUDDDDDUDDDUUUDUDDDUUDUUDDDDDDDUUUDUDDUUDUDDDUUUDUDDDDUDDUDDUUDUDDDUUUDUUDUUUUUUUDUUUUUUUDDDDDUDDDUUUDDDUDDDUDDUUDDUUUDUUDDDUUDUUUDDUDDDDUUUUUUDUUDDDDUDDUUUDUUDDUUDDDUUDUUUUUDDUUDDDDUUUDUUDDUUDDUUDUDDDUDDUUDUDDUDDUUUDUDDUDDUUDUUDUDDDDDDDDDUDDUUDDUUUUDDUUDUUDUUDDDDUUUDUDDDDUDDUUDUUDDUUDUDDDDDUUUDDDDUDDDUUDDUUDDUUUDUDDDUDDDDDUUDUUUDDUDDDDUUUDDDDUUDDUUUDUUUDDUUUDUDDUUUDDDDDDDUUDDUDDUUUUUUDDDDUDDUDDUDDUDDDDDUUDDUDDDUDDUDDDUUDDUUDDDDUUDDUUUDUUDDDDDDUDDUUDDUDDDUUUUDDUUDUDDDDUUUDUUUUDDUUUDDUUUUUUDUUDDDDDUDDUDDDUDDDDUUUDUUDDUDDDUUDDDDDDDDUUDUDDUDDUUUDDDUDDUUUDUDDDUDDUUUDUDDDDDUDDDDDDUUUUDDUDDDUDDDUUUDDUDDUDDUUDDUUUUUDUUDDUUDUUDUUUDUDDUDDDUUDDDDUUDDUUUUDUUDUUUDDDDDUDDDDDUUUDDUUUDUUUDUUDUUUDUUDUDDUUUUUDUUUUUUUUUUUUUUUUUUUUUUUUUUUUUUUU# 32\n"
     ]
    },
    {
     "data": {
      "text/plain": [
       "(0, 83)"
      ]
     },
     "execution_count": 53,
     "metadata": {},
     "output_type": "execute_result"
    }
   ],
   "source": [
    "countingValleys(0,test02), countingValleys(0,test12)"
   ]
  },
  {
   "cell_type": "code",
   "execution_count": null,
   "metadata": {},
   "outputs": [],
   "source": [
    "res12=countingValleys(0,test12)\n"
   ]
  },
  {
   "cell_type": "code",
   "execution_count": 94,
   "metadata": {
    "ExecuteTime": {
     "end_time": "2020-01-05T07:35:26.983415Z",
     "start_time": "2020-01-05T07:35:26.976433Z"
    }
   },
   "outputs": [
    {
     "name": "stdout",
     "output_type": "stream",
     "text": [
      "DDUUUUDD\n",
      "     /\\ \n",
      "    /  \\\n",
      "\\  /    \n",
      " \\/     \n"
     ]
    }
   ],
   "source": [
    "def draw_contour(seq):\n",
    "    print(seq)\n",
    "    location = 0\n",
    "    trans = {'D': -1, 'U': 1}\n",
    "    draw = { 'U': '/', 'D': '\\\\'}\n",
    "    output = {}\n",
    "    #line = [' ' for _ in seq]\n",
    "    for i, d in enumerate(seq):\n",
    "        location += trans[d]\n",
    "        #print (location, d)\n",
    "        loc=location\n",
    "        if i>0:\n",
    "            if d=='U' and seq[i-1]=='D':\n",
    "                loc=location-1\n",
    "                location = loc\n",
    "            elif d=='D' and seq[i-1]=='U':\n",
    "                loc=location+1\n",
    "                location = loc\n",
    "            \n",
    "        if loc in output:\n",
    "            output[loc][i] = draw[d][0]\n",
    "        else:\n",
    "            output[loc] = [' ' for _ in seq]\n",
    "            output[loc][i] = draw[d]\n",
    "        pass\n",
    "    outs=[]\n",
    "    for key in sorted(list(output.keys()), reverse=True):\n",
    "        outs.append (''.join(output[key]))\n",
    "    return(outs)\n",
    "    #print(output)\n",
    "\n",
    "x= draw_contour(paths[3])\n",
    "for l in x:\n",
    "    print(l)"
   ]
  },
  {
   "cell_type": "code",
   "execution_count": 95,
   "metadata": {
    "ExecuteTime": {
     "end_time": "2020-01-05T07:35:59.165513Z",
     "start_time": "2020-01-05T07:35:59.160525Z"
    }
   },
   "outputs": [
    {
     "name": "stdout",
     "output_type": "stream",
     "text": [
      "DU\n",
      "\\/\n",
      "UDDDUUU\n",
      "/\\    /\n",
      "  \\  / \n",
      "   \\/  \n",
      "UDDDUUUDU\n",
      "/\\    /\\/\n",
      "  \\  /   \n",
      "   \\/    \n",
      "DDUUUUDD\n",
      "     /\\ \n",
      "    /  \\\n",
      "\\  /    \n",
      " \\/     \n",
      "UDDDUDUU\n",
      "/\\      \n",
      "  \\    /\n",
      "   \\/\\/ \n",
      "DDDDDDD\n",
      "\\      \n",
      " \\     \n",
      "  \\    \n",
      "   \\   \n",
      "    \\  \n",
      "     \\ \n",
      "      \\\n",
      "UUUU\n",
      "   /\n",
      "  / \n",
      " /  \n",
      "/   \n",
      "DUDUDUDUDUDU\n",
      "\\/\\/\\/\\/\\/\\/\n",
      "DUDUDUDDUUDDDUUU\n",
      "\\/\\/\\/\\  /\\    /\n",
      "       \\/  \\  / \n",
      "            \\/  \n",
      "DDUUDDUDUUUD\n",
      "          /\\\n",
      "\\  /\\    /  \n",
      " \\/  \\/\\/   \n"
     ]
    }
   ],
   "source": [
    "for path in paths:\n",
    "    x=draw_contour( path)\n",
    "    for l in x:\n",
    "        print(l)"
   ]
  },
  {
   "cell_type": "code",
   "execution_count": 96,
   "metadata": {
    "ExecuteTime": {
     "end_time": "2020-01-05T07:36:19.907689Z",
     "start_time": "2020-01-05T07:36:19.903700Z"
    }
   },
   "outputs": [
    {
     "name": "stdout",
     "output_type": "stream",
     "text": [
      "UDUUUDUDDD\n",
      "    /\\/\\  \n",
      "   /    \\ \n",
      "/\\/      \\\n"
     ]
    }
   ],
   "source": [
    "x= draw_contour(test02)\n",
    "for l in x:\n",
    "    print(l)"
   ]
  },
  {
   "cell_type": "code",
   "execution_count": 97,
   "metadata": {
    "ExecuteTime": {
     "end_time": "2020-01-05T07:36:36.419896Z",
     "start_time": "2020-01-05T07:36:36.413911Z"
    }
   },
   "outputs": [],
   "source": [
    "%%capture cap --no-stderr\n",
    "x= draw_contour(test12)\n",
    "for l in x:\n",
    "    print(l)"
   ]
  },
  {
   "cell_type": "code",
   "execution_count": 100,
   "metadata": {
    "ExecuteTime": {
     "end_time": "2020-01-05T07:40:57.710304Z",
     "start_time": "2020-01-05T07:40:57.702326Z"
    }
   },
   "outputs": [
    {
     "name": "stdout",
     "output_type": "stream",
     "text": [
      "DUDDUUUUDDUUUUDUUDUUDUUUUDDDUDDUUUUDUDDDUUDUDUUDDUUUDUDDDUDUDUDUDUUUDUUUUUUDUDDDDDUDUDDDDUUUUUDUDUUUUUUUUDDDUUDUUDUDUDDDDDUDDDUDUUUDUDDDUDUUDUUDDDDDDDUDUDUUUDUDDUDUUDUDDDUUUDUDDDDUDDUDDUDUDUUDUDDDUDUUUDUUDUUUUUUUDUUUUUUUDDDDDUDDDUUUDDDUDDDUDDUUDDUUUDUUDDDUDUUDUUUDDUDDDDUUUUUUDUDUUDDDDUDUDDUUUDUDUUDDUUDDDUUDUUUUUDDUUDDDDUUUDUDUUDDUUDDUUDUDDDUDUDUDDUUDUDDUDUDDUUUDUDDUDDUUDUUDUDDDDDDDDDUDDUUDDUUUUDDUDUUDUUDUUDDDDUUUDUDDDDUDDUUDUDUDUUDDUUDUDUDDDDDUUUDDDDUDDDUUDDUUDDUUUDUDDDUDDDDDUUDUUUDDUDDDDUUUDDDDUUDDUUUDUUUDDUDUUUDUDDUUUDDDDDDDUUDDUDDUUUUUUDDDDUDDUDDUDDUDDDDDUUDDUDDDUDDUDUDDDUDUDUUDDUUDDDDUUDDUUUDUUDDDDDDUDUDDUDUUDDUDDDUUUUDDUUDUDDDDUUUDUUUUDDUDUUUDDUDUUUUUUDUUDDDDDUDDUDUDDDUDDDDUDUUUDUDUUDDUDDDUDUUDDDDDDDDUDUUDUDDUDDUDUUUDDDUDUDDUUUDUDUDDDUDDUDUUUDUDDDDDUDDDDDDUDUUUUDDUDDDUDDDUDUDUUUDDUDDUDDUUDDUDUDUDUUUUUDUUDDUUDUUDUUUDUDUDDUDDDUUDDDDUUDDUUUUDUUDUUUDDDDDUDDDDDUUUDDUUUDUUUDUUDUUUDUDUUDUDDUUUUUDUUUUUUUUUUUUUUUUUUUUUUUUUUUUUUUU\n",
      "                                                                                                                                                                                                                           /\\                                                                                                                                                                                                                                                                                                                                                                                                                                                                                                                                                                                                                                                                                                                                              \n",
      "                                                                                                        /\\      /\\/\\/\\                                                                                                    /  \\                                                                                          /\\  /\\          /\\  /\\  /\\/\\                                                                                                                                                                                                                                                                                                                                                                                                                                                                                                                                                                                                                       \n",
      "                                                                                                       /  \\  /\\/      \\                                                                                                  /    \\                                                                                        /  \\/  \\    /\\/\\/  \\/  \\/    \\                                                                                                                                                                                                                                                                                                                                                                                                                                                                                                                                                                                                                      \n",
      "                                                                                                      /    \\/          \\                                                                                                /      \\                                                        /\\                            /        \\  /                  \\/\\/\\/\\  /\\/\\        /\\/\\        /\\/\\                                                                                                                                                                                                                                                                                                                                                                                                                                                                                                                                                                                 \n",
      "                                                                                                     /                  \\                                                                                              /        \\/\\    /\\                                          /\\/\\/  \\              /\\  /\\      /          \\/                          \\/    \\/\\/\\  /    \\/\\  /\\/    \\                                                                                                                                                                                                                                                                                                                                                                                                                                                                                                                                                                                \n",
      "                                                                          /\\/\\                      /                    \\/\\      /\\/\\        /\\                                                                      /            \\  /  \\                            /\\          /        \\        /\\/\\/  \\/  \\  /\\/                                                  \\/        \\/        \\                                                                                                                                                                                                                                                                                                                                                                                                                                                                                                                                                                               \n",
      "                                                                         /    \\                    /                        \\    /    \\    /\\/  \\                                                                  /\\/              \\/    \\/\\              /\\        /  \\/\\      /          \\/\\/\\  /            \\/                                                                          \\                                                                                                                                                                                                                                                                                                                                                                                                                                                                                                                                                                              \n",
      "                                                                        /      \\                  /                          \\/\\/      \\/\\/      \\                                                                /                          \\          /\\/  \\    /\\/      \\    /                \\/                                                                                          \\                          /\\                                                                                                                                                                                                                                                                                                                                                                                                                                                                                                                                                 \n",
      "                                                                       /        \\            /\\/\\/                                                \\                                                              /                            \\/\\  /\\  /      \\/\\/          \\  /                                                                                                              \\                      /\\/  \\    /\\/\\                                                                                                                                                                                                                                                                                                                                                                                                                                                                                                                                        \n",
      "                                                                      /          \\/\\/\\      /                                                      \\        /\\/\\    /\\/\\    /\\/\\                                /                                \\/  \\/                      \\/                                                                                                                \\            /\\    /\\/      \\  /    \\                                                                                                                                                                                                                                                                                                                                                                                                                                                                                                                                       \n",
      "                                                   /\\/\\            /\\/                \\    /                                                        \\      /    \\/\\/    \\  /    \\                              /                                                                                                                                                                                \\          /  \\/\\/          \\/      \\            /\\  /\\/\\/\\                                                                                                                                                                                                                                                                                                                                                                                                                                                                                                                \n",
      "                        /\\        /\\/\\        /\\  /    \\          /                    \\  /                                                          \\/\\/\\/              \\/      \\                            /                                                                                                                                                                                  \\/\\  /\\  /                          \\/\\  /\\/\\/\\/  \\/      \\                                                                                                                                                                                                                                                                                                                                                                                                                                                                                                               \n",
      "                       /  \\      /    \\  /\\/\\/  \\/      \\/\\/\\/\\/\\/                      \\/                                                                                        \\/\\                      /\\/                                                                                                                                                                                      \\/  \\/                              \\/                  \\    /\\                                                                                                                                                                                                                                                                                                                                                                                                                                                                                                        \n",
      "                      /    \\/\\  /      \\/                                                                                                                                            \\/\\      /\\/\\      /\\/                                                                                                                                                                                                                                                  \\  /  \\                                                                                                                                                                                                                                                                                                                                                                                                                                                                                                       \n",
      "                   /\\/        \\/                                                                                                                                                        \\/\\/\\/    \\    /                                                                                                                                                                                                                                                      \\/    \\                                                                                                                                                                                                                                                                                                                                                                                                                                                                                                      \n",
      "                /\\/                                                                                                                                                                                \\/\\/                                                                                                                                                                                                                                                              \\/\\            /\\/\\                                                                                                                                                                                                                                                                                                                                                                                                                                                                                  /\n",
      "             /\\/                                                                                                                                                                                                                                                                                                                                                                                                                                                        \\  /\\  /\\  /    \\                                                                                                                                                                                                                                                                                                                                                                                                                                                                                / \n",
      "            /                                                                                                                                                                                                                                                                                                                                                                                                                                                            \\/  \\/  \\/      \\/\\                                                /\\                                                                                                                                                                                                                                                                                                                                                                                                                          /  \n",
      "       /\\  /                                                                                                                                                                                                                                                                                                                                                                                                                                                                                \\        /\\                              /\\/\\  /  \\                                                                                                                                                                                                                                                                                                                                                                                                                        /   \n",
      "      /  \\/                                                                                                                                                                                                                                                                                                                                                                                                                                                                                  \\      /  \\/\\                    /\\    /    \\/    \\                /\\                                                                                                                                                                                                                                                                                                                                                                                                    /    \n",
      "\\/\\  /                                                                                                                                                                                                                                                                                                                                                                                                                                                                                        \\  /\\/      \\    /\\            /  \\/\\/            \\              /  \\                                                                                                                                                                                                                                                                                                                                                                                                  /     \n",
      "   \\/                                                                                                                                                                                                                                                                                                                                                                                                                                                                                          \\/          \\  /  \\        /\\/                    \\            /    \\                                                                                                                                                                                                                                                                                                                                                                                                /      \n",
      "                                                                                                                                                                                                                                                                                                                                                                                                                                                                                                            \\/    \\  /\\  /                        \\  /\\      /      \\/\\                                                                                                                                                                                                                                                                                                                                                                                            /       \n",
      "                                                                                                                                                                                                                                                                                                                                                                                                                                                                                                                   \\/  \\/                          \\/  \\/\\  /          \\/\\                                                                                                                                                                                                                                                                                                                                                                                        /        \n",
      "                                                                                                                                                                                                                                                                                                                                                                                                                                                                                                                                                          \\/              \\/\\                                                                                                                                                                                                                                                                                                                                                                                    /         \n",
      "                                                                                                                                                                                                                                                                                                                                                                                                                                                                                                                                                                             \\/\\                                                                                                                                                                                                                                                                                                                                                                                /          \n",
      "                                                                                                                                                                                                                                                                                                                                                                                                                                                                                                                                                                                \\                                                                                                                                                                                                                                                                                                                                                                              /           \n",
      "                                                                                                                                                                                                                                                                                                                                                                                                                                                                                                                                                                                 \\                                                                                                                                                                                                                                                                                                                                                                            /            \n",
      "                                                                                                                                                                                                                                                                                                                                                                                                                                                                                                                                                                                  \\  /\\                                                                                                                                                                                                                                                                                                                                                                      /             \n",
      "                                                                                                                                                                                                                                                                                                                                                                                                                                                                                                                                                                                   \\/  \\/\\                                                                                                                                                                                                                                                                                                                                                                  /              \n",
      "                                                                                                                                                                                                                                                                                                                                                                                                                                                                                                                                                                                          \\                                                                                                /\\                                                                                                                                                                                                                                                              /               \n",
      "                                                                                                                                                                                                                                                                                                                                                                                                                                                                                                                                                                                           \\/\\                                                                                          /\\/  \\                                                                                                                                                                                                                                                            /                \n",
      "                                                                                                                                                                                                                                                                                                                                                                                                                                                                                                                                                                                              \\/\\/\\                                                                                    /      \\                                                                                                                                                                                                                                                          /                 \n",
      "                                                                                                                                                                                                                                                                                                                                                                                                                                                                                                                                                                                                   \\      /\\  /\\            /\\                                                        /        \\                                                                                                                                                                                                                                                        /                  \n",
      "                                                                                                                                                                                                                                                                                                                                                                                                                                                                                                                                                                                                    \\/\\/\\/  \\/  \\        /\\/  \\                                                      /          \\/\\                                                                                                                                                                                                                                                    /                   \n",
      "                                                                                                                                                                                                                                                                                                                                                                                                                                                                                                                                                                                                                 \\  /\\  /      \\                                              /\\    /              \\/\\/\\                                                                                                                                                                                                                                              /                    \n",
      "                                                                                                                                                                                                                                                                                                                                                                                                                                                                                                                                                                                                                  \\/  \\/        \\                                      /\\    /  \\/\\/                    \\                                                                                                                                                                                                                                            /                     \n",
      "                                                                                                                                                                                                                                                                                                                                                                                                                                                                                                                                                                                                                                 \\                                    /  \\/\\/                            \\/\\            /\\                                                                                                                                                                                                                          /                      \n",
      "                                                                                                                                                                                                                                                                                                                                                                                                                                                                                                                                                                                                                                  \\/\\/\\    /\\        /\\  /\\/\\        /                                      \\      /\\/\\/  \\/\\                                                                                                                                                                                                                      /                       \n",
      "                                                                                                                                                                                                                                                                                                                                                                                                                                                                                                                                                                                                                                       \\/\\/  \\/\\    /  \\/    \\    /\\/                                        \\    /          \\    /\\                                                                                                                                                                                                              /                        \n",
      "                                                                                                                                                                                                                                                                                                                                                                                                                                                                                                                                                                                                                                                \\  /          \\  /                                            \\/\\/            \\/\\/  \\                                                                                                                                                                                                            /                         \n",
      "                                                                                                                                                                                                                                                                                                                                                                                                                                                                                                                                                                                                                                                 \\/            \\/                                                                    \\                                                                                                                                                                                                          /                          \n",
      "                                                                                                                                                                                                                                                                                                                                                                                                                                                                                                                                                                                                                                                                                                                                      \\                                                                                                                                                                                                        /                           \n",
      "                                                                                                                                                                                                                                                                                                                                                                                                                                                                                                                                                                                                                                                                                                                                       \\                                                                                                                                                                                                      /                            \n",
      "                                                                                                                                                                                                                                                                                                                                                                                                                                                                                                                                                                                                                                                                                                                                        \\                                                                                                                                                                                                    /                             \n",
      "                                                                                                                                                                                                                                                                                                                                                                                                                                                                                                                                                                                                                                                                                                                                         \\    /\\/\\        /\\                                                                                                                                                                                /                              \n",
      "                                                                                                                                                                                                                                                                                                                                                                                                                                                                                                                                                                                                                                                                                                                                          \\/\\/    \\/\\    /  \\        /\\/\\/\\                                                                                                                                                              /\\/                               \n",
      "                                                                                                                                                                                                                                                                                                                                                                                                                                                                                                                                                                                                                                                                                                                                                     \\/\\/    \\/\\/\\  /      \\        /\\/\\                                                                                                                                                /                                  \n",
      "                                                                                                                                                                                                                                                                                                                                                                                                                                                                                                                                                                                                                                                                                                                                                                  \\/        \\/\\    /    \\                                                                                                                                              /                                   \n",
      "                                                                                                                                                                                                                                                                                                                                                                                                                                                                                                                                                                                                                                                                                                                                                                               \\/\\/      \\                                                                                                                                      /\\/\\  /                                    \n",
      "                                                                                                                                                                                                                                                                                                                                                                                                                                                                                                                                                                                                                                                                                                                                                                                          \\                                                                                                  /\\                            /\\/\\/    \\/                                     \n",
      "                                                                                                                                                                                                                                                                                                                                                                                                                                                                                                                                                                                                                                                                                                                                                                                           \\/\\                                                                /\\/\\/\\                        /  \\                          /                                                \n",
      "                                                                                                                                                                                                                                                                                                                                                                                                                                                                                                                                                                                                                                                                                                                                                                                              \\                                                              /      \\/\\                  /\\/    \\                      /\\/                                                 \n",
      "                                                                                                                                                                                                                                                                                                                                                                                                                                                                                                                                                                                                                                                                                                                                                                                               \\        /\\                                                /\\/          \\  /\\          /\\/        \\                  /\\/                                                    \n",
      "                                                                                                                                                                                                                                                                                                                                                                                                                                                                                                                                                                                                                                                                                                                                                                                                \\      /  \\/\\                                      /\\  /\\/              \\/  \\        /            \\/\\              /                                                       \n",
      "                                                                                                                                                                                                                                                                                                                                                                                                                                                                                                                                                                                                                                                                                                                                                                                                 \\    /      \\                                  /\\/  \\/                      \\  /\\  /                \\          /\\/                                                        \n",
      "                                                                                                                                                                                                                                                                                                                                                                                                                                                                                                                                                                                                                                                                                                                                                                                                  \\/\\/        \\/\\        /\\                    /                              \\/  \\/                  \\    /\\  /                                                           \n",
      "                                                                                                                                                                                                                                                                                                                                                                                                                                                                                                                                                                                                                                                                                                                                                                                                                 \\      /  \\/\\                /                                                        \\  /  \\/                                                            \n",
      "                                                                                                                                                                                                                                                                                                                                                                                                                                                                                                                                                                                                                                                                                                                                                                                                                  \\/\\/\\/      \\/\\  /\\        /                                                          \\/                                                                 \n",
      "                                                                                                                                                                                                                                                                                                                                                                                                                                                                                                                                                                                                                                                                                                                                                                                                                                 \\/  \\/\\/\\/\\/                                                                                                                              \n"
     ]
    }
   ],
   "source": [
    "# .dataframe td {\n",
    "#     white-space: nowrap;\n",
    "# }\n",
    "x= draw_contour(test12)\n",
    "for l in x:\n",
    "    print(l)"
   ]
  },
  {
   "cell_type": "markdown",
   "metadata": {},
   "source": [
    "## Trial 4 I FAILED :-("
   ]
  },
  {
   "cell_type": "code",
   "execution_count": 109,
   "metadata": {
    "ExecuteTime": {
     "end_time": "2020-01-05T08:17:35.230324Z",
     "start_time": "2020-01-05T08:17:35.224312Z"
    }
   },
   "outputs": [
    {
     "data": {
      "text/plain": [
       "2"
      ]
     },
     "execution_count": 109,
     "metadata": {},
     "output_type": "execute_result"
    }
   ],
   "source": [
    "def countingValleys(n, s):\n",
    "    location=0\n",
    "    trans={'D':-1, 'U':1}\n",
    "    valleys=0\n",
    "    \n",
    "    for i, d in enumerate(s):\n",
    "        location+=trans[d]\n",
    "        if location==0 and trans[d]==1:\n",
    "            valleys+=1\n",
    "\n",
    "    return valleys\n",
    "\n",
    "\n",
    "countingValleys(4, paths[-1])"
   ]
  },
  {
   "cell_type": "code",
   "execution_count": 110,
   "metadata": {
    "ExecuteTime": {
     "end_time": "2020-01-05T08:17:36.041261Z",
     "start_time": "2020-01-05T08:17:36.037271Z"
    }
   },
   "outputs": [
    {
     "name": "stdout",
     "output_type": "stream",
     "text": [
      "DU 1\n",
      "UDDDUUU 1\n",
      "UDDDUUUDU 1\n",
      "DDUUUUDD 1\n",
      "UDDDUDUU 1\n",
      "DDDDDDD 0\n",
      "UUUU 0\n",
      "DUDUDUDUDUDU 6\n",
      "DUDUDUDDUUDDDUUU 5\n",
      "DDUUDDUDUUUD 2\n"
     ]
    }
   ],
   "source": [
    "for path in paths:\n",
    "    print(path, countingValleys(4, path))"
   ]
  },
  {
   "cell_type": "code",
   "execution_count": 111,
   "metadata": {
    "ExecuteTime": {
     "end_time": "2020-01-05T08:17:36.776411Z",
     "start_time": "2020-01-05T08:17:36.772421Z"
    }
   },
   "outputs": [
    {
     "data": {
      "text/plain": [
       "0"
      ]
     },
     "execution_count": 111,
     "metadata": {},
     "output_type": "execute_result"
    }
   ],
   "source": [
    "countingValleys(4, test02)"
   ]
  },
  {
   "cell_type": "code",
   "execution_count": 112,
   "metadata": {
    "ExecuteTime": {
     "end_time": "2020-01-05T08:17:37.378052Z",
     "start_time": "2020-01-05T08:17:37.373066Z"
    }
   },
   "outputs": [
    {
     "data": {
      "text/plain": [
       "10"
      ]
     },
     "execution_count": 112,
     "metadata": {},
     "output_type": "execute_result"
    }
   ],
   "source": [
    "countingValleys(4, test12)"
   ]
  },
  {
   "cell_type": "code",
   "execution_count": null,
   "metadata": {},
   "outputs": [],
   "source": []
  }
 ],
 "metadata": {
  "kernelspec": {
   "display_name": "Python 3",
   "language": "python",
   "name": "python3"
  },
  "language_info": {
   "codemirror_mode": {
    "name": "ipython",
    "version": 3
   },
   "file_extension": ".py",
   "mimetype": "text/x-python",
   "name": "python",
   "nbconvert_exporter": "python",
   "pygments_lexer": "ipython3",
   "version": "3.7.4"
  },
  "varInspector": {
   "cols": {
    "lenName": 16,
    "lenType": 16,
    "lenVar": 40
   },
   "kernels_config": {
    "python": {
     "delete_cmd_postfix": "",
     "delete_cmd_prefix": "del ",
     "library": "var_list.py",
     "varRefreshCmd": "print(var_dic_list())"
    },
    "r": {
     "delete_cmd_postfix": ") ",
     "delete_cmd_prefix": "rm(",
     "library": "var_list.r",
     "varRefreshCmd": "cat(var_dic_list()) "
    }
   },
   "types_to_exclude": [
    "module",
    "function",
    "builtin_function_or_method",
    "instance",
    "_Feature"
   ],
   "window_display": false
  }
 },
 "nbformat": 4,
 "nbformat_minor": 2
}
