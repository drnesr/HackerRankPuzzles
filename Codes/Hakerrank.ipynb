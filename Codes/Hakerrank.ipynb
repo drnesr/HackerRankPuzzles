{
 "cells": [
  {
   "cell_type": "code",
   "execution_count": 7,
   "metadata": {
    "ExecuteTime": {
     "end_time": "2019-12-23T10:54:48.259539Z",
     "start_time": "2019-12-23T10:54:48.255521Z"
    }
   },
   "outputs": [],
   "source": [
    "# number of stations, total units of Nitro (N2O) present in the bus.\n",
    "n, k = 3, 2\n",
    "# distances between a station and its precedor\n",
    "d = [1, 4]\n",
    "# Each element [time of arrival, from station, to station]\n",
    "commuters = [[1, 1, 3], [2, 1, 2], [5, 2, 3]]\n",
    "commuters2 = [[1, 1, 3], [2, 1, 2], [5, 2, 3], [1, 1, 3], [3, 1, 3], [4, 2, 2]]"
   ]
  },
  {
   "cell_type": "code",
   "execution_count": 9,
   "metadata": {
    "ExecuteTime": {
     "end_time": "2019-12-24T06:44:54.844573Z",
     "start_time": "2019-12-24T06:44:54.839586Z"
    }
   },
   "outputs": [],
   "source": [
    "from random import randint"
   ]
  },
  {
   "cell_type": "code",
   "execution_count": 14,
   "metadata": {
    "ExecuteTime": {
     "end_time": "2019-12-24T07:10:40.868794Z",
     "start_time": "2019-12-24T07:10:40.863779Z"
    }
   },
   "outputs": [
    {
     "name": "stdout",
     "output_type": "stream",
     "text": [
      "[[9, 3, 9], [2, 1, 10], [5, 4, 6], [4, 1, 9], [4, 5, 6], [8, 4, 9], [1, 5, 7], [9, 2, 5], [3, 4, 6], [3, 2, 3], [5, 1, 5], [7, 1, 9], [8, 4, 6], [3, 3, 9], [3, 6, 7], [9, 7, 9], [3, 1, 10], [10, 9, 10], [8, 2, 10], [9, 5, 9], [8, 8, 9], [1, 6, 7], [9, 3, 8], [6, 3, 4], [6, 7, 9], [8, 3, 6], [1, 1, 10], [10, 6, 8], [3, 1, 10], [9, 7, 9], [6, 3, 4], [7, 4, 5], [1, 6, 8], [1, 1, 5], [6, 3, 10], [10, 4, 6], [8, 4, 5], [3, 3, 5], [7, 3, 6], [9, 4, 7], [7, 9, 10], [6, 2, 8], [2, 6, 10], [6, 2, 9], [9, 1, 6], [8, 4, 6], [2, 2, 10], [10, 2, 6], [4, 2, 8], [8, 6, 7]]\n"
     ]
    }
   ],
   "source": [
    "# create a random set of commuters\n",
    "commuters3 = []\n",
    "for _ in range(50):\n",
    "    passenger = [randint(1, 10), randint(1, 9), randint(2, 10)]\n",
    "    if passenger[1] > passenger[2]:\n",
    "        passenger[1], passenger[2] = passenger[2], passenger[1]\n",
    "    elif passenger[1] == passenger[2]:\n",
    "        passenger[1], passenger[2] = randint(1, 5), randint(6, 10)\n",
    "    commuters3.append(passenger)\n",
    "print(commuters3)"
   ]
  },
  {
   "cell_type": "code",
   "execution_count": 30,
   "metadata": {
    "ExecuteTime": {
     "end_time": "2019-12-24T07:38:01.475692Z",
     "start_time": "2019-12-24T07:38:01.470705Z"
    }
   },
   "outputs": [
    {
     "name": "stdout",
     "output_type": "stream",
     "text": [
      "[[5, 2, 4], [5, 2, 3], [5, 1, 6], [4, 4, 9], [5, 4, 8], [4, 2, 8], [3, 5, 10], [3, 4, 10], [1, 1, 7], [1, 5, 10], [2, 3, 5], [4, 4, 10], [1, 3, 6], [1, 1, 7], [5, 5, 6], [2, 1, 9], [3, 4, 8], [2, 2, 9], [4, 2, 10], [4, 1, 8], [3, 2, 7], [5, 1, 3], [5, 4, 10], [4, 3, 9], [5, 5, 9], [5, 3, 8], [5, 4, 10], [3, 2, 9], [5, 3, 10], [5, 4, 5], [2, 2, 8], [1, 2, 10], [8, 6, 10], [8, 2, 3], [1, 1, 2], [2, 3, 10], [5, 3, 10], [1, 2, 10], [7, 1, 2], [1, 1, 9], [6, 2, 4], [5, 4, 5], [8, 3, 8], [7, 1, 8], [1, 4, 10], [10, 2, 10], [8, 2, 3], [3, 2, 8], [6, 3, 10], [9, 4, 9], [13, 3, 10], [9, 4, 10], [9, 2, 7], [2, 2, 8], [12, 2, 9], [1, 1, 2], [9, 4, 9], [1, 1, 3], [12, 5, 10], [9, 6, 10], [1, 5, 10], [9, 2, 6], [15, 6, 9], [5, 5, 10], [7, 3, 9], [2, 3, 5], [7, 4, 7], [5, 1, 7], [17, 7, 10], [7, 4, 10], [5, 4, 10], [17, 3, 4], [12, 2, 10], [11, 4, 10], [15, 4, 10], [5, 5, 10], [3, 2, 10], [3, 4, 6], [13, 5, 10], [16, 3, 10]]\n"
     ]
    }
   ],
   "source": [
    "# create a realistic random set of commuters\n",
    "commuters_ = []\n",
    "for i in range(80):\n",
    "    p_time = randint(1, 5*max(1,int(i/16)))\n",
    "    p_st_from = min(randint(1, 5) + int(p_time / 7.5), 9)\n",
    "    p_st_to = min(p_st_from + randint(1, 9), 10) \n",
    "    passenger = [p_time, p_st_from, p_st_to]\n",
    "#     if passenger[1] > passenger[2]:\n",
    "#         passenger[1], passenger[2] = passenger[2], passenger[1]\n",
    "#     elif passenger[1] == passenger[2]:\n",
    "#         passenger[1], passenger[2] = randint(1, 5), randint(6, 10)\n",
    "    commuters_.append(passenger)\n",
    "print(commuters4)"
   ]
  },
  {
   "cell_type": "code",
   "execution_count": 31,
   "metadata": {
    "ExecuteTime": {
     "end_time": "2019-12-24T07:38:08.985234Z",
     "start_time": "2019-12-24T07:38:08.979254Z"
    }
   },
   "outputs": [
    {
     "name": "stdout",
     "output_type": "stream",
     "text": [
      "[[3, 3, 10], [5, 4, 7], [1, 5, 10], [2, 2, 7], [1, 2, 3], [1, 2, 10], [4, 5, 7], [1, 1, 8], [2, 1, 7], [2, 3, 10], [4, 4, 10], [3, 2, 10], [2, 5, 10], [1, 5, 10], [1, 4, 10], [5, 5, 6], [5, 5, 10], [3, 5, 7], [1, 4, 10], [2, 1, 2], [3, 2, 3], [2, 2, 5], [5, 4, 10], [4, 3, 9], [3, 3, 10], [3, 5, 9], [4, 2, 7], [5, 5, 10], [4, 1, 9], [5, 3, 8], [2, 3, 9], [1, 5, 10], [3, 3, 5], [6, 4, 6], [8, 3, 10], [4, 3, 5], [9, 5, 10], [6, 3, 6], [6, 1, 2], [9, 2, 9], [5, 3, 9], [1, 2, 4], [5, 1, 3], [10, 2, 10], [6, 5, 9], [5, 5, 8], [4, 3, 8], [3, 5, 10], [14, 3, 10], [7, 4, 7], [4, 3, 7], [12, 5, 10], [1, 4, 9], [7, 4, 10], [14, 2, 5], [1, 1, 3], [3, 4, 7], [5, 4, 10], [5, 1, 9], [14, 5, 9], [8, 6, 10], [11, 4, 8], [1, 5, 7], [9, 5, 8], [15, 4, 6], [18, 6, 9], [10, 6, 10], [20, 6, 8], [1, 4, 7], [6, 5, 8], [5, 2, 10], [2, 5, 10], [2, 5, 6], [20, 7, 10], [9, 6, 10], [5, 3, 10], [7, 3, 5], [17, 7, 10], [19, 7, 10], [7, 2, 6]]\n"
     ]
    }
   ],
   "source": [
    "def generate_commuters(num_passengers, num_stations):\n",
    "    # create a realistic random set of commuters\n",
    "    commuters_ = []\n",
    "    for i in range(num_passengers):\n",
    "        p_time = randint(1, 5 * max(1, int(i / (num_passengers / 5))))\n",
    "        p_st_from = min(\n",
    "            randint(1, int(num_stations / 2)) + int(\n",
    "                p_time / (num_stations * 3 / 4)), num_stations - 1)\n",
    "        p_st_to = min(p_st_from + randint(1, num_stations - 1), num_stations)\n",
    "        passenger = [p_time, p_st_from, p_st_to]\n",
    "        commuters_.append(passenger)\n",
    "    return commuters_\n",
    "\n",
    "\n",
    "commuters4 = generate_commuters(80, 10)\n",
    "print(commuters4)"
   ]
  },
  {
   "cell_type": "code",
   "execution_count": 5,
   "metadata": {
    "ExecuteTime": {
     "end_time": "2019-12-23T10:52:55.010038Z",
     "start_time": "2019-12-23T10:52:55.004054Z"
    }
   },
   "outputs": [],
   "source": [
    "def drive(n, k, d, commuters):\n",
    "    #\n",
    "    # Write your code here.\n",
    "    #\n",
    "    m = len(commuters)\n",
    "    # assuming the commuters list is sorted\n",
    "    total_time = 0\n",
    "    waiting_time = {}\n",
    "    station_info = {}\n",
    "    # Calculating waiting time for all stations\n",
    "    for com in commuters:\n",
    "        # adding a list of [Num of coms, minimum arival, max arrival]\n",
    "        if com[1] in station_info:\n",
    "            target = station_info[com[1]]\n",
    "            target[0] +=1\n",
    "            target[1] =min(target[1], com[0])\n",
    "            target[2] =max(target[2], com[0])\n",
    "        else:\n",
    "            station_info[com[1]] = [1, com[0], com[0]]\n",
    "    return station_info"
   ]
  },
  {
   "cell_type": "code",
   "execution_count": 8,
   "metadata": {
    "ExecuteTime": {
     "end_time": "2019-12-23T10:54:49.812450Z",
     "start_time": "2019-12-23T10:54:49.807463Z"
    }
   },
   "outputs": [
    {
     "data": {
      "text/plain": [
       "({1: [2, 1, 2], 2: [1, 5, 5]}, {1: [4, 1, 3], 2: [2, 4, 5]})"
      ]
     },
     "execution_count": 8,
     "metadata": {},
     "output_type": "execute_result"
    }
   ],
   "source": [
    "drive(n, k, d, commuters), drive(n, k, d, commuters2)"
   ]
  },
  {
   "cell_type": "code",
   "execution_count": 32,
   "metadata": {
    "ExecuteTime": {
     "end_time": "2019-12-24T07:38:32.657793Z",
     "start_time": "2019-12-24T07:38:32.651810Z"
    }
   },
   "outputs": [
    {
     "data": {
      "text/plain": [
       "{3: [16, 2, 14],\n",
       " 4: [14, 1, 15],\n",
       " 5: [21, 1, 14],\n",
       " 2: [13, 1, 14],\n",
       " 1: [8, 1, 6],\n",
       " 6: [5, 8, 20],\n",
       " 7: [3, 17, 20]}"
      ]
     },
     "execution_count": 32,
     "metadata": {},
     "output_type": "execute_result"
    }
   ],
   "source": [
    "drive(n, k, d, commuters4)"
   ]
  },
  {
   "cell_type": "code",
   "execution_count": 25,
   "metadata": {
    "ExecuteTime": {
     "end_time": "2019-12-24T07:28:32.823428Z",
     "start_time": "2019-12-24T07:28:32.817444Z"
    }
   },
   "outputs": [],
   "source": [
    "def stations(commuters):\n",
    "    m = len(commuters)\n",
    "    station_info = {}\n",
    "    # Calculating waiting time for all stations\n",
    "    for com in commuters:\n",
    "        # adding a list of [Num of coms, minimum arival, max arrival]\n",
    "        if com[1] in station_info:\n",
    "            target = station_info[com[1]]\n",
    "            target[0] +=1\n",
    "            target[1] =min(target[1], com[0])\n",
    "            target[2] =max(target[2], com[0])\n",
    "        else:\n",
    "            station_info[com[1]] = [1, com[0], com[0]]\n",
    "    return station_info"
   ]
  },
  {
   "cell_type": "code",
   "execution_count": 33,
   "metadata": {
    "ExecuteTime": {
     "end_time": "2019-12-24T07:39:24.173519Z",
     "start_time": "2019-12-24T07:39:24.169529Z"
    }
   },
   "outputs": [
    {
     "name": "stdout",
     "output_type": "stream",
     "text": [
      "{3: [16, 2, 14], 4: [14, 1, 15], 5: [21, 1, 14], 2: [13, 1, 14], 1: [8, 1, 6], 6: [5, 8, 20], 7: [3, 17, 20]}\n"
     ]
    }
   ],
   "source": [
    "st4= stations(commuters4)\n",
    "print(st4)"
   ]
  },
  {
   "cell_type": "code",
   "execution_count": 34,
   "metadata": {
    "ExecuteTime": {
     "end_time": "2019-12-24T07:42:29.045664Z",
     "start_time": "2019-12-24T07:42:29.040669Z"
    }
   },
   "outputs": [
    {
     "data": {
      "text/plain": [
       "[[8, 1, 6],\n",
       " [13, 1, 14],\n",
       " [16, 2, 14],\n",
       " [14, 1, 15],\n",
       " [21, 1, 14],\n",
       " [5, 8, 20],\n",
       " [3, 17, 20]]"
      ]
     },
     "execution_count": 34,
     "metadata": {},
     "output_type": "execute_result"
    }
   ],
   "source": [
    "sorted_st = [st4[x] for x in sorted(st4.keys())]\n",
    "sorted_st\n"
   ]
  },
  {
   "cell_type": "code",
   "execution_count": 40,
   "metadata": {
    "ExecuteTime": {
     "end_time": "2019-12-24T08:20:53.520323Z",
     "start_time": "2019-12-24T08:20:53.515335Z"
    }
   },
   "outputs": [
    {
     "data": {
      "text/plain": [
       "([5, 7, 8, 8, 4, 5, 7], 14)"
      ]
     },
     "execution_count": 40,
     "metadata": {},
     "output_type": "execute_result"
    }
   ],
   "source": [
    "# generate distances between stations\n",
    "d= [randint(1, 8) for _ in range(len(st4))]\n",
    "k=14\n",
    "d, k"
   ]
  },
  {
   "cell_type": "code",
   "execution_count": 41,
   "metadata": {
    "ExecuteTime": {
     "end_time": "2019-12-24T08:20:58.305023Z",
     "start_time": "2019-12-24T08:20:58.300068Z"
    }
   },
   "outputs": [
    {
     "name": "stdout",
     "output_type": "stream",
     "text": [
      "0 5 6 5 6\n",
      "1 7 14 7 14\n",
      "2 8 14 2 20\n",
      "3 8 15 0 28\n",
      "4 4 14 0 32\n",
      "5 5 20 0 37\n",
      "6 7 20 0 44\n",
      "\n",
      "The minimum time is 44 minute\n"
     ]
    }
   ],
   "source": [
    "t=0\n",
    "for i, st in enumerate(sorted_st):\n",
    "    distance = d[i]\n",
    "    # we can take the maximum propeline, but not more than the distance\n",
    "    time_d = max(0, min(k, distance))\n",
    "    # the propeline is reduced by the same amount\n",
    "    k-=time_d\n",
    "    # the consumed time is the waiting time + distance time - propeline reduction\n",
    "    t=max(t, st[2])+distance-time_d\n",
    "    print(i, d[i], st[2], time_d, t)\n",
    "print(f'\\nThe minimum time is {t} minute') "
   ]
  },
  {
   "cell_type": "markdown",
   "metadata": {},
   "source": [
    "# Testing"
   ]
  },
  {
   "cell_type": "code",
   "execution_count": 89,
   "metadata": {
    "ExecuteTime": {
     "end_time": "2019-12-24T09:23:01.837446Z",
     "start_time": "2019-12-24T09:23:01.829467Z"
    }
   },
   "outputs": [],
   "source": [
    "def drive(n, k, d, commuters):\n",
    "    '''\n",
    "    dkjf;dsj\n",
    "    '''\n",
    "    \n",
    "    def stations(commuters):\n",
    "        station_info = {}\n",
    "        # Calculating waiting time for all stations\n",
    "        for com in commuters:\n",
    "            # adding a list of [Num of coms, minimum arival, max arrival]\n",
    "            if com[1] in station_info:\n",
    "                target = station_info[com[1]]\n",
    "                target[0] +=1\n",
    "                target[1] =min(target[1], com[0])\n",
    "                target[2] =max(target[2], com[0])\n",
    "            else:\n",
    "                station_info[com[1]] = [1, com[0], com[0]]\n",
    "        return station_info\n",
    "    \n",
    "    sts= stations(commuters)\n",
    "    print(sts)\n",
    "    sorted_st = [sts[x] for x in sorted(sts.keys())]\n",
    "    #print(sorted_st)\n",
    "    \n",
    "    t=0\n",
    "    ts=sts[1][1]\n",
    "    # for i, st in enumerate(sorted_st): # to solve if thhere is an empty station\n",
    "    for i in range(1, n):\n",
    "        # waiting time\n",
    "        if i in sts.keys():\n",
    "            st= sts[i]\n",
    "        else:\n",
    "            st=[0,0,0]\n",
    "        waiting_time = max(0, st[2]-t)\n",
    "        # distance\n",
    "        distance = d[i-1]\n",
    "        # propeline consumption\n",
    "        # we can take the maximum propeline, but not more than the distance\n",
    "        propeline = max(0, min(k, distance))\n",
    "        \n",
    "        # the consumed time is the waiting time + distance time - propeline reduction\n",
    "        t+=waiting_time+distance-propeline\n",
    "        print(i, distance, waiting_time, propeline, k, t)\n",
    "        # the propeline is reduced by the same amount\n",
    "        k-=propeline\n",
    "    t-=ts\n",
    "    return t"
   ]
  },
  {
   "cell_type": "code",
   "execution_count": 90,
   "metadata": {
    "ExecuteTime": {
     "end_time": "2019-12-24T09:23:02.419302Z",
     "start_time": "2019-12-24T09:23:02.413317Z"
    }
   },
   "outputs": [
    {
     "name": "stdout",
     "output_type": "stream",
     "text": [
      "{1: [2, 1, 2], 2: [1, 5, 5]}\n",
      "1 1 2 1 2 2\n",
      "2 4 3 1 1 8\n"
     ]
    },
    {
     "data": {
      "text/plain": [
       "7"
      ]
     },
     "execution_count": 90,
     "metadata": {},
     "output_type": "execute_result"
    }
   ],
   "source": [
    "# THe reference case\n",
    "commuters = [[1, 1, 3], [2, 1, 2], [5, 2, 3]]\n",
    "n, m, k = 3,3,2\n",
    "d=[1,4]\n",
    "drive(n, k, d, commuters)"
   ]
  },
  {
   "cell_type": "code",
   "execution_count": 91,
   "metadata": {
    "ExecuteTime": {
     "end_time": "2019-12-24T09:26:22.897689Z",
     "start_time": "2019-12-24T09:26:22.890707Z"
    }
   },
   "outputs": [
    {
     "name": "stdout",
     "output_type": "stream",
     "text": [
      "{3: [16, 2, 14], 4: [14, 1, 15], 5: [21, 1, 14], 2: [13, 1, 14], 1: [8, 1, 6], 6: [5, 8, 20], 7: [3, 17, 20]}\n",
      "1 3 6 3 14 6\n",
      "2 3 8 3 11 14\n",
      "3 3 0 3 8 14\n",
      "4 8 1 5 5 18\n",
      "5 7 0 0 0 25\n",
      "6 2 0 0 0 27\n"
     ]
    },
    {
     "data": {
      "text/plain": [
       "26"
      ]
     },
     "execution_count": 91,
     "metadata": {},
     "output_type": "execute_result"
    }
   ],
   "source": [
    "# generate distances between stations\n",
    "d= [randint(1, 8) for _ in range(len(st4))]\n",
    "k=14\n",
    "n=7\n",
    "commuters=commuters4\n",
    "drive(n, k, d, commuters)"
   ]
  },
  {
   "cell_type": "markdown",
   "metadata": {},
   "source": [
    "# Solving for the sum of traveltimes for all passengers"
   ]
  },
  {
   "cell_type": "code",
   "execution_count": 99,
   "metadata": {
    "ExecuteTime": {
     "end_time": "2019-12-24T11:27:39.724291Z",
     "start_time": "2019-12-24T11:27:39.717309Z"
    }
   },
   "outputs": [
    {
     "name": "stdout",
     "output_type": "stream",
     "text": [
      "{1: [2, 1, 2], 2: [1, 5, 5]}\n"
     ]
    },
    {
     "data": {
      "text/plain": [
       "[8, 3, 2]"
      ]
     },
     "execution_count": 99,
     "metadata": {},
     "output_type": "execute_result"
    }
   ],
   "source": [
    "commuters = [[1, 1, 3], [2, 1, 2], [5, 2, 3]]\n",
    "n, m, k = 3,3,2\n",
    "d=[1,4]\n",
    "sts= stations(commuters)\n",
    "print (sts)\n",
    "times = []\n",
    "for each in commuters:\n",
    "    waiting=0\n",
    "    for sta in range(each[1], each[2]):\n",
    "        waiting += sts[sta][2]-each[0]\n",
    "    distance = sum(d[each[1]-1: each[2]])\n",
    "    speeded = max(0, distance-k)\n",
    "    com_time=waiting+speeded\n",
    "    times.append(com_time)\n",
    "times"
   ]
  },
  {
   "cell_type": "code",
   "execution_count": 105,
   "metadata": {
    "ExecuteTime": {
     "end_time": "2019-12-25T05:58:21.776296Z",
     "start_time": "2019-12-25T05:58:21.771308Z"
    }
   },
   "outputs": [
    {
     "data": {
      "text/plain": [
       "[(70, 0, 5),\n",
       " (71, 1, 4),\n",
       " (72, 2, 3),\n",
       " (73, 3, 2),\n",
       " (74, 4, 1),\n",
       " (75, 0, 5),\n",
       " (76, 1, 4),\n",
       " (77, 2, 3),\n",
       " (78, 3, 2),\n",
       " (79, 4, 1),\n",
       " (80, 0, 5)]"
      ]
     },
     "execution_count": 105,
     "metadata": {},
     "output_type": "execute_result"
    }
   ],
   "source": [
    "[(x,x%5, 5-x%5) for x in (70, 71, 72, 73, 74, 75, 76, 77, 78, 79, 80)]"
   ]
  },
  {
   "cell_type": "code",
   "execution_count": 106,
   "metadata": {
    "ExecuteTime": {
     "end_time": "2019-12-25T05:59:02.272051Z",
     "start_time": "2019-12-25T05:59:02.267064Z"
    }
   },
   "outputs": [],
   "source": [
    "def gradingStudents(grades):\n",
    "    # Write your code here\n",
    "    res=[]\n",
    "    for gr in grades:\n",
    "        if gr>=38:\n",
    "            remain = gr % 5\n",
    "            if remain >= 3:\n",
    "                res.append(gr+5-remain)\n",
    "            else:\n",
    "                res.append(gr)\n",
    "        else:\n",
    "            res.append(gr)\n",
    "    return res"
   ]
  },
  {
   "cell_type": "code",
   "execution_count": 107,
   "metadata": {
    "ExecuteTime": {
     "end_time": "2019-12-25T05:59:03.744683Z",
     "start_time": "2019-12-25T05:59:03.738699Z"
    }
   },
   "outputs": [
    {
     "data": {
      "text/plain": [
       "[21, 22, 37, 40, 40, 42, 45, 45, 60, 61, 62, 65, 65, 65, 100, 100]"
      ]
     },
     "execution_count": 107,
     "metadata": {},
     "output_type": "execute_result"
    }
   ],
   "source": [
    "gradingStudents((21, 22, 37, 39, 40, 42, 43, 45, 60, 61, 62, 63, 64, 65, 100, 99))"
   ]
  },
  {
   "cell_type": "code",
   "execution_count": null,
   "metadata": {},
   "outputs": [],
   "source": []
  }
 ],
 "metadata": {
  "kernelspec": {
   "display_name": "Python 3",
   "language": "python",
   "name": "python3"
  },
  "language_info": {
   "codemirror_mode": {
    "name": "ipython",
    "version": 3
   },
   "file_extension": ".py",
   "mimetype": "text/x-python",
   "name": "python",
   "nbconvert_exporter": "python",
   "pygments_lexer": "ipython3",
   "version": "3.7.4"
  },
  "varInspector": {
   "cols": {
    "lenName": 16,
    "lenType": 16,
    "lenVar": 40
   },
   "kernels_config": {
    "python": {
     "delete_cmd_postfix": "",
     "delete_cmd_prefix": "del ",
     "library": "var_list.py",
     "varRefreshCmd": "print(var_dic_list())"
    },
    "r": {
     "delete_cmd_postfix": ") ",
     "delete_cmd_prefix": "rm(",
     "library": "var_list.r",
     "varRefreshCmd": "cat(var_dic_list()) "
    }
   },
   "types_to_exclude": [
    "module",
    "function",
    "builtin_function_or_method",
    "instance",
    "_Feature"
   ],
   "window_display": false
  }
 },
 "nbformat": 4,
 "nbformat_minor": 2
}
